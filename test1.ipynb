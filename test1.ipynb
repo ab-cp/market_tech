{
 "cells": [
  {
   "cell_type": "code",
   "execution_count": null,
   "metadata": {},
   "outputs": [],
   "source": [
    "import yfinance as yf\n",
    "import pandas as pd\n",
    "import matplotlib.pyplot as plt\n",
    "\n",
    "# Function to download stock data and calculate MACD\n",
    "def get_stock_data(symbol, start_date, end_date):\n",
    "    # Download stock data\n",
    "    stock_data = yf.download(symbol, start=start_date, end=end_date)\n",
    "    \n",
    "    # Calculate the MACD\n",
    "    stock_data['EMA12'] = stock_data['Close'].ewm(span=12, adjust=False).mean()\n",
    "    stock_data['EMA26'] = stock_data['Close'].ewm(span=26, adjust=False).mean()\n",
    "    stock_data['MACD'] = stock_data['EMA12'] - stock_data['EMA26']\n",
    "    stock_data['Signal Line'] = stock_data['MACD'].ewm(span=9, adjust=False).mean()\n",
    "    \n",
    "    return stock_data\n",
    "\n",
    "# Function to plot the stock data and MACD\n",
    "def plot_stock_data(stock_data):\n",
    "    fig, (ax1, ax2) = plt.subplots(2, 1, figsize=(14, 10))\n",
    "    \n",
    "    # Plot the closing price\n",
    "    ax1.plot(stock_data['Close'], label='Close Price')\n",
    "    ax1.set_title('Close Price')\n",
    "    ax1.set_ylabel('Price')\n",
    "    ax1.legend()\n",
    "    \n",
    "    # Plot the MACD\n",
    "    ax2.plot(stock_data['MACD'], label='MACD', color='g')\n",
    "    ax2.plot(stock_data['Signal Line'], label='Signal Line', color='r')\n",
    "    ax2.bar(stock_data.index, stock_data['MACD'] - stock_data['Signal Line'], label='MACD Histogram', color='b')\n",
    "    ax2.set_title('MACD')\n",
    "    ax2.set_ylabel('Value')\n",
    "    ax2.legend()\n",
    "    \n",
    "    plt.show()\n",
    "\n",
    "# Example usage\n",
    "symbol = 'AAPL'\n",
    "start_date = '2023-01-01'\n",
    "end_date = '2023-12-31'\n",
    "stock_data = get_stock_data(symbol, start_date, end_date)\n",
    "plot_stock_data(stock_data)\n"
   ]
  }
 ],
 "metadata": {
  "language_info": {
   "name": "python"
  }
 },
 "nbformat": 4,
 "nbformat_minor": 2
}
