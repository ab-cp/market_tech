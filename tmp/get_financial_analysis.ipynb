{
 "cells": [
  {
   "cell_type": "markdown",
   "metadata": {
    "notebookRunGroups": {
     "groupValue": "1"
    }
   },
   "source": [
    "Financial Statement analysis"
   ]
  },
  {
   "cell_type": "code",
   "execution_count": 1,
   "metadata": {},
   "outputs": [],
   "source": [
    "# Import necessary libraries\n",
    "import yfinance as yf\n",
    "import pandas as pd\n",
    "from IPython.display import display"
   ]
  },
  {
   "cell_type": "code",
   "execution_count": 2,
   "metadata": {},
   "outputs": [],
   "source": [
    "def get_sp500_stocks():\n",
    "    # Wikipedia page URL that contains the S&P 500 list\n",
    "    url = \"https://en.wikipedia.org/wiki/List_of_S%26P_500_companies\"\n",
    "    \n",
    "    # Scraping the table containing the S&P 500 list\n",
    "    tables = pd.read_html(url)\n",
    "    \n",
    "    # The first table on the page contains the S&P 500 companies\n",
    "    sp500_table = tables[0]\n",
    "    print(sp500_table)\n",
    "\n",
    "    tick_list = sp500_table['Symbol']    \n",
    "    # Get the stock symbols and company names\n",
    "    sp500_stocks = sp500_table[['Symbol', 'Security']]\n",
    "    \n",
    "    return sp500_stocks, tick_list\n"
   ]
  },
  {
   "cell_type": "code",
   "execution_count": null,
   "metadata": {},
   "outputs": [],
   "source": [
    "# Function to get financial statements\n",
    "def get_financial_statements(ticker):\n",
    "    stock = yf.Ticker(ticker)\n",
    "    \n",
    "    # Get balance sheet\n",
    "    balance_sheet = stock.balance_sheet\n",
    "    balance_sheet.columns = [ticker + ' Balance Sheet']  # Add column title\n",
    "    \n",
    "    # Get income statement\n",
    "    income_statement = stock.financials\n",
    "    income_statement.columns = [ticker + ' Income Statement']  # Add column title\n",
    "    \n",
    "    # Get cash flow statement\n",
    "    cash_flow = stock.cashflow\n",
    "    cash_flow.columns = [ticker + ' Cash Flow Statement']  # Add column title\n",
    "    \n",
    "    return balance_sheet, income_statement, cash_flow\n",
    "\n"
   ]
  },
  {
   "cell_type": "code",
   "execution_count": null,
   "metadata": {},
   "outputs": [],
   "source": [
    "# Function to calculate financial ratios\n",
    "def calculate_financial_ratios(ticker):\n",
    "    stock = yf.Ticker(ticker)\n",
    "    \n",
    "    # Get latest financial data\n",
    "    balance_sheet = stock.balance_sheet\n",
    "    income_statement = stock.financials\n",
    "    cash_flow = stock.cashflow\n",
    "    \n",
    "    # Calculate some basic financial ratios\n",
    "    # Current Ratio = Current Assets / Current Liabilities\n",
    "    current_ratio = balance_sheet.loc['Total Current Assets'][0] / balance_sheet.loc['Total Current Liabilities'][0]\n",
    "\n",
    "    # Debt to Equity Ratio = Total Liabilities / Shareholder Equity\n",
    "    debt_to_equity_ratio = balance_sheet.loc['Total Liab'][0] / balance_sheet.loc['Total Stockholder Equity'][0]\n",
    "\n",
    "    # Return on Assets (ROA) = Net Income / Total Assets\n",
    "    roa = income_statement.loc['Net Income'][0] / balance_sheet.loc['Total Assets'][0]\n",
    "\n",
    "    # Return on Equity (ROE) = Net Income / Shareholder Equity\n",
    "    roe = income_statement.loc['Net Income'][0] / balance_sheet.loc['Total Stockholder Equity'][0]\n",
    "\n",
    "    # Free Cash Flow = Operating Cash Flow - Capital Expenditures\n",
    "    free_cash_flow = cash_flow.loc['Total Cash From Operating Activities'][0] - cash_flow.loc['Capital Expenditures'][0]\n",
    "\n",
    "    # Create a DataFrame for financial ratios\n",
    "    ratios = pd.DataFrame({\n",
    "        'Financial Metric': ['Current Ratio', 'Debt to Equity Ratio', 'Return on Assets (ROA)', 'Return on Equity (ROE)', 'Free Cash Flow'],\n",
    "        ticker: [current_ratio, debt_to_equity_ratio, roa, roe, free_cash_flow]\n",
    "    })\n",
    "    \n",
    "    return ratios"
   ]
  },
  {
   "cell_type": "code",
   "execution_count": null,
   "metadata": {},
   "outputs": [],
   "source": [
    "# Define ticker symbols\n",
    "ticker_symbols = ['AAPL', 'NVDA', 'MCD']"
   ]
  },
  {
   "cell_type": "code",
   "execution_count": 3,
   "metadata": {},
   "outputs": [],
   "source": [
    "# Initialize lists to store financial statements and ratios\n",
    "balance_sheets = []\n",
    "income_statements = []\n",
    "cash_flows = []\n",
    "ratios_list = []\n",
    "ticker_symbols = []"
   ]
  },
  {
   "cell_type": "code",
   "execution_count": 4,
   "metadata": {},
   "outputs": [],
   "source": [
    "# Iterate over each ticker and store financial statements and ratios\n",
    "for ticker in ticker_symbols:\n",
    "    print(ticker)\n",
    "    balance_sheet, income_statement, cash_flow = get_financial_statements(ticker)\n",
    "    ratios = calculate_financial_ratios(ticker)\n",
    "    \n",
    "    balance_sheets.append(balance_sheet)\n",
    "    income_statements.append(income_statement)\n",
    "    cash_flows.append(cash_flow)\n",
    "    ratios_list.append(ratios)"
   ]
  },
  {
   "cell_type": "code",
   "execution_count": null,
   "metadata": {},
   "outputs": [],
   "source": [
    "# Concatenate financial statements and ratios into single DataFrames\n",
    "all_balance_sheets = pd.concat(balance_sheets, axis=1)\n",
    "all_income_statements = pd.concat(income_statements, axis=1)\n",
    "all_cash_flows = pd.concat(cash_flows, axis=1)\n",
    "all_ratios = pd.concat(ratios_list, axis=1)"
   ]
  },
  {
   "cell_type": "code",
   "execution_count": null,
   "metadata": {},
   "outputs": [],
   "source": [
    "# Display the financial statements and ratios\n",
    "display(all_balance_sheets)\n",
    "display(all_income_statements)\n",
    "display(all_cash_flows)\n",
    "display(all_ratios)"
   ]
  }
 ],
 "metadata": {
  "kernelspec": {
   "display_name": "myproject_kernel",
   "language": "python",
   "name": "myproject_kernel"
  },
  "language_info": {
   "codemirror_mode": {
    "name": "ipython",
    "version": 3
   },
   "file_extension": ".py",
   "mimetype": "text/x-python",
   "name": "python",
   "nbconvert_exporter": "python",
   "pygments_lexer": "ipython3",
   "version": "3.12.7"
  }
 },
 "nbformat": 4,
 "nbformat_minor": 2
}
